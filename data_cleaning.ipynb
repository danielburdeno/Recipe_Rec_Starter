{
 "cells": [
  {
   "cell_type": "markdown",
   "metadata": {},
   "source": [
    "## Data Preprocessing"
   ]
  },
  {
   "cell_type": "code",
   "execution_count": null,
   "metadata": {},
   "outputs": [],
   "source": [
    "# Importing the libraries needed\n",
    "import pandas as pd\n",
    "import numpy as np\n",
    "import ast\n",
    "from sklearn.metrics.pairwise import cosine_similarity"
   ]
  },
  {
   "cell_type": "code",
   "execution_count": null,
   "metadata": {},
   "outputs": [],
   "source": [
    "# Load the data\n",
    "recipes = pd.read_csv('data/RAW_recipes.csv')\n",
    "recipes.head()"
   ]
  },
  {
   "cell_type": "code",
   "execution_count": null,
   "metadata": {},
   "outputs": [],
   "source": [
    "recipes.info()"
   ]
  },
  {
   "cell_type": "code",
   "execution_count": null,
   "metadata": {},
   "outputs": [],
   "source": [
    "recipes.describe()"
   ]
  },
  {
   "cell_type": "code",
   "execution_count": null,
   "metadata": {},
   "outputs": [],
   "source": [
    "recipes.isna().sum()"
   ]
  },
  {
   "cell_type": "code",
   "execution_count": null,
   "metadata": {},
   "outputs": [],
   "source": [
    "# Going to drop nulls as I want description to be able to display to the user\n",
    "recipes = recipes.dropna()\n",
    "recipes.isna().sum()"
   ]
  },
  {
   "cell_type": "code",
   "execution_count": null,
   "metadata": {},
   "outputs": [],
   "source": [
    "# Need to look at all the tags, to be used as content features\n",
    "# Currently a string, need to convert to list\n",
    "recipes['tags'] = recipes['tags'].apply(ast.literal_eval)\n",
    "tags = recipes['tags'].explode()\n",
    "tags"
   ]
  },
  {
   "cell_type": "code",
   "execution_count": null,
   "metadata": {},
   "outputs": [],
   "source": [
    "len(tags.unique())"
   ]
  },
  {
   "cell_type": "code",
   "execution_count": null,
   "metadata": {},
   "outputs": [],
   "source": [
    "tag_counts = tags.value_counts()\n",
    "tags_filtered = tag_counts[tag_counts >  10000]\n",
    "tags_filtered"
   ]
  },
  {
   "cell_type": "code",
   "execution_count": null,
   "metadata": {},
   "outputs": [],
   "source": [
    "# Nutrition information (calories (#), total fat (PDV), sugar (PDV) , sodium (PDV) , protein (PDV) , saturated fat (PDV), total carbohydrates (PDV))\n",
    "# Currently a string, need to convert to list then make into seperate columns\n",
    "recipes['nutrition'] = recipes['nutrition'].apply(ast.literal_eval)\n",
    "recipes[['calories', 'fat', 'sugar', 'sodium', 'protein', 'saturated_fat', 'carbohydrates']] = recipes['nutrition'].apply(pd.Series)\n",
    "recipes = recipes.drop(columns=['nutrition'])\n",
    "recipes.head()"
   ]
  },
  {
   "cell_type": "code",
   "execution_count": null,
   "metadata": {},
   "outputs": [],
   "source": [
    "# Want to look at how specific steps are, can I use this as a content feature without heavy NLP?\n",
    "# Currently a string, need to convert to list\n",
    "recipes['steps'] = recipes['steps'].apply(ast.literal_eval)\n",
    "recipes['steps'][0]"
   ]
  },
  {
   "cell_type": "code",
   "execution_count": null,
   "metadata": {},
   "outputs": [],
   "source": [
    "# I want to use inredients as a content feature as well to search for recipes\n",
    "# Currently a string, need to convert to list\n",
    "recipes['ingredients'] = recipes['ingredients'].apply(ast.literal_eval)\n",
    "recipes['ingredients'][0]"
   ]
  },
  {
   "cell_type": "code",
   "execution_count": null,
   "metadata": {},
   "outputs": [],
   "source": [
    "# Looking at counts, lots of one off ingredients will limit based on count, same as tags\n",
    "ingredients = recipes['ingredients'].explode()\n",
    "ing_counts = ingredients.value_counts()\n",
    "ing_counts"
   ]
  },
  {
   "cell_type": "code",
   "execution_count": null,
   "metadata": {},
   "outputs": [],
   "source": [
    "# Limit to ingredients that appear more than 2000 times\n",
    "ing_filetered = ing_counts[ing_counts > 2000]\n",
    "ing_filetered"
   ]
  },
  {
   "cell_type": "code",
   "execution_count": null,
   "metadata": {},
   "outputs": [],
   "source": [
    "# Something to consider for future steps, some ingredients are very similar, could be standardised with NLP\n",
    "# Is this something I actually want to standardise? chicken broth vs. chicken breast?\n",
    "# Need to consider this during the ingredient search\n",
    "for ing in list(ing_filetered.index):\n",
    "    if 'chicken' in ing:\n",
    "        print(ing)"
   ]
  },
  {
   "cell_type": "code",
   "execution_count": null,
   "metadata": {},
   "outputs": [],
   "source": [
    "# Function to check if a row contains a value and return a boolean\n",
    "# Will help split out ingredients and tags into seperate columns\n",
    "def check_values(row, values):\n",
    "    return pd.Series({value: value in row for value in values})"
   ]
  },
  {
   "cell_type": "code",
   "execution_count": null,
   "metadata": {},
   "outputs": [],
   "source": [
    "# Create new columns for each ingredient in the filtered list\n",
    "new_cols_ing = recipes['ingredients'].apply(check_values, values=list(ing_filetered.index))\n",
    "new_cols_ing"
   ]
  },
  {
   "cell_type": "code",
   "execution_count": null,
   "metadata": {},
   "outputs": [],
   "source": [
    "# Creating new columns for each tag in the filtered list\n",
    "new_cols_tag = recipes['tags'].apply(check_values, values=list(tags_filtered.index))\n",
    "new_cols_tag"
   ]
  },
  {
   "cell_type": "code",
   "execution_count": null,
   "metadata": {},
   "outputs": [],
   "source": [
    "# Brining together ingredients and tags into one dataframe\n",
    "tags_ings = pd.concat([new_cols_ing, new_cols_tag], axis=1)\n",
    "tags_ings.head()"
   ]
  },
  {
   "cell_type": "code",
   "execution_count": null,
   "metadata": {},
   "outputs": [],
   "source": [
    "# Bringing togather the features I want to use in the content based filtering and removing the columns I don't want\n",
    "recipes_feat = recipes.drop(columns=['contributor_id', 'submitted', 'tags', 'steps', 'description',\n",
    "                                     'ingredients', 'name', 'n_steps', 'n_ingredients', 'minutes'])\n",
    "recipes_feat = pd.concat([recipes_feat, tags_ings], axis=1)\n",
    "recipes_feat.head()"
   ]
  },
  {
   "cell_type": "code",
   "execution_count": null,
   "metadata": {},
   "outputs": [],
   "source": [
    "# Slight overlap in tags and ingredients, will remove duplicates\n",
    "duplicate_columns = recipes_feat.columns[recipes_feat.columns.duplicated()].tolist()\n",
    "duplicate_columns"
   ]
  },
  {
   "cell_type": "code",
   "execution_count": null,
   "metadata": {},
   "outputs": [],
   "source": [
    "# Sanity check for duplicate column names\n",
    "recipes_feat.columns.value_counts()"
   ]
  },
  {
   "cell_type": "code",
   "execution_count": null,
   "metadata": {},
   "outputs": [],
   "source": [
    "# Removing duplicate columns\n",
    "recipes_feat_clean = recipes_feat.loc[:, ~recipes_feat.columns.duplicated()]\n",
    "recipes_feat_clean.columns.value_counts()"
   ]
  },
  {
   "cell_type": "code",
   "execution_count": null,
   "metadata": {},
   "outputs": [],
   "source": [
    "# Save feature matrix as parquet file\n",
    "recipes_feat_clean.to_parquet('data/recipes_feat.parquet')"
   ]
  },
  {
   "cell_type": "code",
   "execution_count": null,
   "metadata": {},
   "outputs": [],
   "source": [
    "# For size limitations seperating the content features and the tags and ingredients\n",
    "recipes_ingtag = recipes.drop(columns=['name', 'steps', 'description', 'contributor_id', 'submitted', 'n_ingredients', \n",
    "                                    'n_steps', 'minutes', 'calories', 'fat', 'sugar', 'sodium', 'protein',\n",
    "                                    'saturated_fat', 'carbohydrates'])\n",
    "recipes_ingtag.head()"
   ]
  },
  {
   "cell_type": "code",
   "execution_count": null,
   "metadata": {},
   "outputs": [],
   "source": [
    "# Save as parquet file\n",
    "recipes_ingtag.to_parquet('data/recipes_ingtag.parquet')"
   ]
  },
  {
   "cell_type": "code",
   "execution_count": null,
   "metadata": {},
   "outputs": [],
   "source": [
    "# Create a dataframe with steps and description\n",
    "recipes_steps = recipes.drop(columns=['contributor_id', 'submitted', 'n_ingredients', 'n_steps', 'minutes', 'calories', 'fat',\n",
    "                                      'sugar', 'sodium', 'protein', 'saturated_fat', 'carbohydrates', 'tags'])\n",
    "recipes_steps.head()"
   ]
  },
  {
   "cell_type": "code",
   "execution_count": null,
   "metadata": {},
   "outputs": [],
   "source": [
    "# Save as parquet file\n",
    "recipes_steps.to_parquet('data/recipes_steps.parquet')"
   ]
  },
  {
   "cell_type": "markdown",
   "metadata": {},
   "source": [
    "## Testing Functions for Streamlit"
   ]
  },
  {
   "cell_type": "code",
   "execution_count": null,
   "metadata": {},
   "outputs": [],
   "source": [
    "recipes_test = recipes_ingtag.copy()\n",
    "recipes_test.head()"
   ]
  },
  {
   "cell_type": "code",
   "execution_count": null,
   "metadata": {},
   "outputs": [],
   "source": [
    "# Need a function to match if selected tags are present in the row\n",
    "# We will prompt user for specific tags, and return recipes that contain all of those tags\n",
    "def all_tags_present(item_tags, selected):\n",
    "    return all(string in item_tags for string in selected)"
   ]
  },
  {
   "cell_type": "code",
   "execution_count": null,
   "metadata": {},
   "outputs": [],
   "source": [
    "recipes_test['tag_match'] = recipes_test['tags'].apply(all_tags_present, selected=['poultry', '30-minutes-or-less'])\n",
    "recipes_test = recipes_test[recipes_test['tag_match'] == True]"
   ]
  },
  {
   "cell_type": "code",
   "execution_count": null,
   "metadata": {},
   "outputs": [],
   "source": [
    "# Ingredient selection, will handle input with streamlit\n",
    "ing_selected = ['chicken', 'lentils']"
   ]
  },
  {
   "cell_type": "code",
   "execution_count": null,
   "metadata": {},
   "outputs": [],
   "source": [
    "# Need to define a function that will return True if all ingredients selected are found in the matched row\n",
    "def check_ingredients_df(row):\n",
    "    ing_matched = row\n",
    "    \n",
    "    # Join all ingredients into a single lowercase string\n",
    "    ingredients_str = ' '.join(str(ing).lower() for ing in ing_matched)\n",
    "    \n",
    "    # Check each item in all_ings\n",
    "    for item in ing_selected:\n",
    "        item = item.strip('s')\n",
    "        if item not in ingredients_str:\n",
    "            return False\n",
    "    \n",
    "    # If we've made it through all items without returning False, return True\n",
    "    return True\n"
   ]
  },
  {
   "cell_type": "code",
   "execution_count": null,
   "metadata": {},
   "outputs": [],
   "source": [
    "# Can now apply to dataframe\n",
    "recipes_test['ing_match'] = recipes_test['ingredients'].apply(check_ingredients_df)\n",
    "recipes_test[recipes_test['ing_match'] == True]"
   ]
  },
  {
   "cell_type": "code",
   "execution_count": null,
   "metadata": {},
   "outputs": [],
   "source": [
    "# How do we want to display the steps to the user?\n",
    "recipes_steps.head()"
   ]
  },
  {
   "cell_type": "code",
   "execution_count": null,
   "metadata": {},
   "outputs": [],
   "source": [
    "\n",
    "rec = recipes_steps[recipes_steps['id'] == 66735]\n",
    "rec['steps'].values[0], rec['name'].values[0]"
   ]
  },
  {
   "cell_type": "code",
   "execution_count": null,
   "metadata": {},
   "outputs": [],
   "source": [
    "name = rec['name'].values[0].replace(' ', '-')\n",
    "name"
   ]
  },
  {
   "cell_type": "code",
   "execution_count": null,
   "metadata": {},
   "outputs": [],
   "source": [
    "# Can use some clever formatted strings to display the link (because they all follow the same format)\n",
    "link = f\"https://www.food.com/recipe/{name}-{rec['id'].values[0]}\"\n",
    "link"
   ]
  },
  {
   "cell_type": "code",
   "execution_count": null,
   "metadata": {},
   "outputs": [],
   "source": [
    "# We can use the feature matrix to find similar recipes to the one selected\n",
    "rec_feat = recipes_feat_clean[recipes_feat_clean['id'] == 66735]\n",
    "rec_feat = rec_feat.drop(columns=['id']).values.reshape(1, -1)\n",
    "\n",
    "# Using cosine similarity to compare feature vectors\n",
    "cosine_sim = cosine_similarity(rec_feat, recipes_feat_clean.drop(columns=['id']))\n",
    "sim_scores = list(zip(recipes_feat_clean['id'].values, cosine_sim[0]))\n",
    "sim_scores = sorted(sim_scores, key=lambda x: x[1], reverse=True)\n",
    "sim_scores = sim_scores[1:6]\n",
    "rec_indices = [i[0] for i in sim_scores]\n",
    "\n",
    "recs = recipes_steps[recipes_steps['id'].isin(rec_indices)][['id', 'name', 'description']]\n",
    "recs\n"
   ]
  }
 ],
 "metadata": {
  "kernelspec": {
   "display_name": "recipe_st",
   "language": "python",
   "name": "python3"
  },
  "language_info": {
   "codemirror_mode": {
    "name": "ipython",
    "version": 3
   },
   "file_extension": ".py",
   "mimetype": "text/x-python",
   "name": "python",
   "nbconvert_exporter": "python",
   "pygments_lexer": "ipython3",
   "version": "3.12.4"
  }
 },
 "nbformat": 4,
 "nbformat_minor": 2
}
